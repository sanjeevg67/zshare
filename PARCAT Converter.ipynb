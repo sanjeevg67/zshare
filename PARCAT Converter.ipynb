{
 "cells": [
  {
   "cell_type": "code",
   "execution_count": 1,
   "metadata": {},
   "outputs": [],
   "source": [
    "# Convert from python go.Parcats parameters to json data and layout objects"
   ]
  },
  {
   "cell_type": "code",
   "execution_count": 74,
   "metadata": {},
   "outputs": [],
   "source": [
    "import json"
   ]
  },
  {
   "cell_type": "code",
   "execution_count": null,
   "metadata": {},
   "outputs": [],
   "source": [
    "# define a function that shall generate the json data object"
   ]
  },
  {
   "cell_type": "code",
   "execution_count": 76,
   "metadata": {},
   "outputs": [],
   "source": [
    "def generate_json_data (dimensions, counts, line) :\n",
    "    print (\"[{\\\"dimensions\\\":\", json.dumps (dimensions))\n",
    "    print (\",\\\"counts\\\":\", json.dumps(counts))\n",
    "    print (\",\\\"line\\\":\", json.dumps(line))\n",
    "    print (\",\\\"type\\\": \\\"parcats\\\"}]\")"
   ]
  },
  {
   "cell_type": "code",
   "execution_count": 75,
   "metadata": {},
   "outputs": [],
   "source": [
    "# Replace the parameters with the data as used in the parcat python file"
   ]
  },
  {
   "cell_type": "code",
   "execution_count": 77,
   "metadata": {},
   "outputs": [
    {
     "name": "stdout",
     "output_type": "stream",
     "text": [
      "[{\"dimensions\": [{\"label\": \"ProjectManager\", \"values\": [\"Piyush\", \"Piyush\", \"Piyush\", \"Amit\", \"Amit\", \"Amit\", \"Abhinay\", \"Abhinay\", \"Abhinay\"]}, {\"label\": \"ProjectType\", \"values\": [\"Java\", \"ReactApp\", \"PHP\", \"Java\", \"ReactApp\", \"PHP\", \"Java\", \"ReactApp\", \"PHP\"]}, {\"label\": \"ScheduleDelay\", \"values\": [\"2-4Weeks\", \">4Weeks\", \">4Weeks\", \"<2Weeks\", \"2-4Weeks\", \"2-4Weeks\", \"2-4Weeks\", \"<2Weeks\", \"2-4Weeks\"]}]\n",
      ",\"counts\": [6, 10, 10, 22, 12, 10, 15, 10, 7]\n",
      ",\"line\": {\"color\": [0.5, 0, 0, 1, 0.5, 0.5, 0.5, 1, 0.5], \"colorscale\": [[0, \"red\"], [0.5, \"yellow\"], [1, \"mediumseagreen\"]]}\n",
      ",\"type\": \"parcats\"}]\n"
     ]
    }
   ],
   "source": [
    "generate_json_data (dimensions=[\n",
    "        {'label': 'ProjectManager',\n",
    "         'values': ['Piyush', 'Piyush', 'Piyush', 'Amit','Amit','Amit', 'Abhinay','Abhinay', 'Abhinay']},\n",
    "        {'label': 'ProjectType',\n",
    "         'values': ['Java', 'ReactApp', 'PHP','Java', 'ReactApp', 'PHP', 'Java', 'ReactApp', 'PHP']},  \n",
    "        {'label': 'ScheduleDelay',\n",
    "         'values': ['2-4Weeks', '>4Weeks', '>4Weeks','<2Weeks', '2-4Weeks', '2-4Weeks', '2-4Weeks', '<2Weeks', '2-4Weeks']}     \n",
    "           \n",
    "    ],\n",
    "    counts=[6, 10, 10, 22, 12,10, 15, 10, 7],\n",
    "    line={'color': [0.5, 0,0, 1,0.5,0.5,0.5, 1,0.5],\n",
    "        'colorscale' : [[0, 'red'],[0.5, 'yellow'], [1, 'mediumseagreen']]\n",
    "    \n",
    "        })"
   ]
  },
  {
   "cell_type": "code",
   "execution_count": null,
   "metadata": {},
   "outputs": [],
   "source": [
    "# Now generate the layout json object. Replace the <title Text> with actual title for graph"
   ]
  },
  {
   "cell_type": "code",
   "execution_count": 78,
   "metadata": {},
   "outputs": [
    {
     "name": "stdout",
     "output_type": "stream",
     "text": [
      "{\"autosize\": true,\n",
      "\"title\": {\"text\" : \"<title Text>\"}}\n"
     ]
    }
   ],
   "source": [
    "    print (\"{\\\"autosize\\\": true,\")\n",
    "    print (\"\\\"title\\\": {\\\"text\\\" : \\\"<title Text>\\\"}}\")"
   ]
  },
  {
   "cell_type": "code",
   "execution_count": null,
   "metadata": {},
   "outputs": [],
   "source": [
    "# Now the objects are ready and can be copy pasted into the graph definition."
   ]
  }
 ],
 "metadata": {
  "kernelspec": {
   "display_name": "Python 3",
   "language": "python",
   "name": "python3"
  },
  "language_info": {
   "codemirror_mode": {
    "name": "ipython",
    "version": 3
   },
   "file_extension": ".py",
   "mimetype": "text/x-python",
   "name": "python",
   "nbconvert_exporter": "python",
   "pygments_lexer": "ipython3",
   "version": "3.6.3"
  }
 },
 "nbformat": 4,
 "nbformat_minor": 2
}
